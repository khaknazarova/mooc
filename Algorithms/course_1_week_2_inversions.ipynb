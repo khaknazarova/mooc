{
 "cells": [
  {
   "cell_type": "markdown",
   "metadata": {},
   "source": [
    "## Programming assignment #2"
   ]
  },
  {
   "cell_type": "markdown",
   "metadata": {},
   "source": [
    "### The number of inversions\n",
    "This file contains all of the 100,000 integers between 1 and 100,000 (inclusive) in some order, with no integer repeated.\n",
    "\n",
    "Your task is to compute the number of inversions in the file given, where the i-th row of the file indicates the i-th entry of an array.\n",
    "\n",
    "Because of the large size of this array, you should implement the fast divide-and-conquer algorithm."
   ]
  },
  {
   "cell_type": "code",
   "execution_count": 1,
   "metadata": {
    "collapsed": true
   },
   "outputs": [],
   "source": [
    "def count_inversions(a):\n",
    "    \n",
    "    swap_counts = [0]\n",
    "    temp = [0]*len(a)\n",
    "    start = 0\n",
    "    end = len(a)-1\n",
    "    merge_sort(a, start, end, swap_counts, temp)\n",
    "    return swap_counts[0]\n",
    "    \n",
    "    \n",
    "def merge_sort(m, start, end, swap_counts, temp):\n",
    "    if start >= end:\n",
    "        return m\n",
    " \n",
    "    middle = (start + end) // 2\n",
    " \n",
    "    merge_sort(m, start, middle, swap_counts, temp)\n",
    "    merge_sort(m, middle+1, end, swap_counts, temp)\n",
    "    merge(m, start, end, swap_counts, temp)\n",
    "\n",
    "def merge(m, start, end, swap_counts, temp):\n",
    "\n",
    "    middle = (start + end) // 2\n",
    "    left_idx, right_idx = start, middle+1\n",
    "    index = start\n",
    "    while left_idx <= middle and right_idx <= end:\n",
    "        if m[left_idx] <= m[right_idx]:\n",
    "            temp[index] = m[left_idx]\n",
    "            left_idx += 1\n",
    "            \n",
    "        else:\n",
    "            temp[index] = m[right_idx]\n",
    "            right_idx += 1\n",
    "            swap_counts[0] += middle - left_idx + 1 \n",
    "        index += 1       \n",
    "            \n",
    "    if left_idx>middle: \n",
    "        temp[index:end+1] = arr[right_idx:end+1] \n",
    "    if right_idx>end: \n",
    "        temp[index:end+1] = arr[left_idx:middle+1] \n",
    "        \n",
    "    arr[start:end+1] = temp[start:end+1]     "
   ]
  },
  {
   "cell_type": "code",
   "execution_count": 2,
   "metadata": {
    "collapsed": false
   },
   "outputs": [],
   "source": [
    "fin = open('IntegerArray.txt', 'r')\n",
    "arr = map(lambda x: int(x.rstrip()), fin.readlines())"
   ]
  },
  {
   "cell_type": "code",
   "execution_count": 3,
   "metadata": {
    "collapsed": false
   },
   "outputs": [
    {
     "name": "stdout",
     "output_type": "stream",
     "text": [
      "The number of inversions is 2407905288\n"
     ]
    }
   ],
   "source": [
    "print 'The number of inversions is', count_inversions(arr)"
   ]
  }
 ],
 "metadata": {
  "kernelspec": {
   "display_name": "Python 2",
   "language": "python",
   "name": "python2"
  },
  "language_info": {
   "codemirror_mode": {
    "name": "ipython",
    "version": 2
   },
   "file_extension": ".py",
   "mimetype": "text/x-python",
   "name": "python",
   "nbconvert_exporter": "python",
   "pygments_lexer": "ipython2",
   "version": "2.7.12"
  }
 },
 "nbformat": 4,
 "nbformat_minor": 2
}
