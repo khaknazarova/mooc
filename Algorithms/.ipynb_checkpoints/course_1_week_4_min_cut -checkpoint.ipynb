{
 "cells": [
  {
   "cell_type": "markdown",
   "metadata": {},
   "source": [
    "## Programming Assignment #4"
   ]
  },
  {
   "cell_type": "markdown",
   "metadata": {},
   "source": [
    "Your task is to code up and run the randomized contraction algorithm for the min cut problem and use it on the above graph to compute the min cut"
   ]
  },
  {
   "cell_type": "code",
   "execution_count": 1,
   "metadata": {
    "collapsed": true
   },
   "outputs": [],
   "source": [
    "import random\n",
    "import copy"
   ]
  },
  {
   "cell_type": "code",
   "execution_count": 2,
   "metadata": {
    "collapsed": true
   },
   "outputs": [],
   "source": [
    "def min_cut(data):\n",
    "    new_node = len(data)\n",
    "    while len(data)>2:\n",
    "        #generate random edge between random nodes 'u' and 'v'\n",
    "        u = random.sample(data.keys(),1)[0]\n",
    "        v = random.sample(data[u],1)[0]\n",
    "\n",
    "        #merge 'u' and 'v' in a single node 'new_node' and substitute edge for them to a new_node\n",
    "        new_adj = []\n",
    "        for x in data[u]:\n",
    "            if (x != v):\n",
    "                new_adj.append(x)\n",
    "        for y in data[v]:\n",
    "            if y != u:\n",
    "                new_adj.append(y)\n",
    "        new_node = new_node+1\n",
    "\n",
    "        data[new_node] = new_adj\n",
    "\n",
    "        for x in new_adj:\n",
    "            for i,y in enumerate(data[x]):\n",
    "                if (y == u) or (y == v):\n",
    "                    data[x][i] = new_node\n",
    "\n",
    "        del data[u], data[v]\n",
    "    return len(data.values()[0])"
   ]
  },
  {
   "cell_type": "markdown",
   "metadata": {},
   "source": [
    "The file 'kargerMinCut.txt' contains the adjacency list representation of a simple undirected graph"
   ]
  },
  {
   "cell_type": "code",
   "execution_count": 3,
   "metadata": {
    "collapsed": false
   },
   "outputs": [],
   "source": [
    "with open('kargerMinCut.txt') as f:\n",
    "    content = f.readlines()\n",
    "data = {}\n",
    "for line in content:\n",
    "        nodes = map(int, line.split())\n",
    "        data[nodes[0]] = nodes[1:]"
   ]
  },
  {
   "cell_type": "code",
   "execution_count": 4,
   "metadata": {
    "collapsed": false
   },
   "outputs": [
    {
     "name": "stdout",
     "output_type": "stream",
     "text": [
      "min cut is 17\n"
     ]
    }
   ],
   "source": [
    "minim_cut = 200\n",
    "number_of_running_alg = 50\n",
    "\n",
    "for rs in xrange(number_of_running_alg):\n",
    "    random.seed(rs)\n",
    "    data_copy = copy.deepcopy(data)\n",
    "    current_min_cut = min_cut(data_copy)\n",
    "    if current_min_cut < minim_cut:\n",
    "        minim_cut = current_min_cut\n",
    "        \n",
    "print 'min cut is', minim_cut"
   ]
  }
 ],
 "metadata": {
  "kernelspec": {
   "display_name": "Python 2",
   "language": "python",
   "name": "python2"
  },
  "language_info": {
   "codemirror_mode": {
    "name": "ipython",
    "version": 2
   },
   "file_extension": ".py",
   "mimetype": "text/x-python",
   "name": "python",
   "nbconvert_exporter": "python",
   "pygments_lexer": "ipython2",
   "version": "2.7.12"
  }
 },
 "nbformat": 4,
 "nbformat_minor": 2
}
