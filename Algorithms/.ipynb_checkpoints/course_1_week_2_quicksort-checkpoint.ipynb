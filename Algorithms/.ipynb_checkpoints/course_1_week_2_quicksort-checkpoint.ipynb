{
 "cells": [
  {
   "cell_type": "markdown",
   "metadata": {},
   "source": [
    "## Programming Assignment #3\n"
   ]
  },
  {
   "cell_type": "markdown",
   "metadata": {},
   "source": [
    "Your task is to compute the total number of comparisons used to sort the given input file by QuickSort. As you know, the number of comparisons depends on which elements are chosen as pivots, so we'll ask you to explore three different pivoting rules.\n",
    "\n"
   ]
  },
  {
   "cell_type": "markdown",
   "metadata": {},
   "source": [
    "#### The first element of the array as the pivot element"
   ]
  },
  {
   "cell_type": "code",
   "execution_count": 1,
   "metadata": {
    "collapsed": true
   },
   "outputs": [],
   "source": [
    "def partition1(a, l, r):\n",
    "    p = a[l]\n",
    "    i = l+1\n",
    "    \n",
    "    for j in xrange(l+1, r+1):\n",
    "        if a[j] < p:\n",
    "            a[j], a[i] = a[i], a[j]\n",
    "            i +=1\n",
    "    \n",
    "    a[l], a[i-1] = a[i-1], a[l]\n",
    "    return i-1"
   ]
  },
  {
   "cell_type": "markdown",
   "metadata": {},
   "source": [
    "#### The final element of the given array as the pivot element"
   ]
  },
  {
   "cell_type": "code",
   "execution_count": 2,
   "metadata": {
    "collapsed": true
   },
   "outputs": [],
   "source": [
    "def partition2(a, l, r):\n",
    "    a[l], a[r] = a[r], a[l]\n",
    "    p = a[l]\n",
    "    i = l+1\n",
    "    \n",
    "    for j in xrange(l+1, r+1):\n",
    "        if a[j] < p:\n",
    "            a[j], a[i] = a[i], a[j]\n",
    "            i +=1\n",
    "    \n",
    "    a[l], a[i-1] = a[i-1], a[l]\n",
    "    return i-1"
   ]
  },
  {
   "cell_type": "markdown",
   "metadata": {},
   "source": [
    "#### The \"median-of-three\" pivot rule"
   ]
  },
  {
   "cell_type": "code",
   "execution_count": 3,
   "metadata": {
    "collapsed": true
   },
   "outputs": [],
   "source": [
    "def partition3(a, l, r):\n",
    "    mid = (l + r) / 2\n",
    "    \n",
    "    if mid == l or mid == r:\n",
    "        piv = mid\n",
    "    else:\n",
    "        vals = [a[l], a[r], a[mid]]\n",
    "        minval = min(vals)\n",
    "        maxval = max(vals)\n",
    "        for x in [l, r, mid]:\n",
    "            if a[x] != minval and a[x] != maxval:\n",
    "                piv = x\n",
    "    \n",
    "    a[l], a[piv] = a[piv], a[l]\n",
    "    p = a[l]\n",
    "    i = l+1\n",
    "    \n",
    "    for j in xrange(l+1, r+1):\n",
    "        if a[j] < p:\n",
    "            a[j], a[i] = a[i], a[j]\n",
    "            i +=1\n",
    "    \n",
    "    a[l], a[i-1] = a[i-1], a[l]\n",
    "    return i-1"
   ]
  },
  {
   "cell_type": "code",
   "execution_count": 4,
   "metadata": {
    "collapsed": true
   },
   "outputs": [],
   "source": [
    "def quicksort(a, l, r, partitionN):\n",
    "    global com\n",
    "    if l<r:\n",
    "        com += r-l\n",
    "        q = partitionN(a, l, r)\n",
    "        quicksort(a, l, q-1, partitionN)\n",
    "        quicksort(a, q+1, r, partitionN)"
   ]
  },
  {
   "cell_type": "code",
   "execution_count": 5,
   "metadata": {
    "collapsed": false
   },
   "outputs": [],
   "source": [
    "fin = open('QuickSort.txt', 'r')\n",
    "arr = map(lambda x: int(x.rstrip()), fin.readlines())\n",
    "arr1 = arr[:]\n",
    "arr2 = arr[:]\n",
    "arr3 = arr[:]"
   ]
  },
  {
   "cell_type": "code",
   "execution_count": 6,
   "metadata": {
    "collapsed": false
   },
   "outputs": [
    {
     "name": "stdout",
     "output_type": "stream",
     "text": [
      "number of comparisons in the first case: 162085\n"
     ]
    }
   ],
   "source": [
    "com = 0\n",
    "quicksort(arr1,0,9999,partition1)\n",
    "print 'number of comparisons in the first case:', com"
   ]
  },
  {
   "cell_type": "code",
   "execution_count": 7,
   "metadata": {
    "collapsed": false
   },
   "outputs": [
    {
     "name": "stdout",
     "output_type": "stream",
     "text": [
      "number of comparisons in the second case: 164123\n"
     ]
    }
   ],
   "source": [
    "com = 0\n",
    "quicksort(arr2,0,9999,partition2)\n",
    "print 'number of comparisons in the second case:', com"
   ]
  },
  {
   "cell_type": "code",
   "execution_count": 8,
   "metadata": {
    "collapsed": false
   },
   "outputs": [
    {
     "name": "stdout",
     "output_type": "stream",
     "text": [
      "number of comparisons in the third case: 138382\n"
     ]
    }
   ],
   "source": [
    "com = 0\n",
    "quicksort(arr3,0,9999,partition3)\n",
    "print 'number of comparisons in the third case:', com"
   ]
  }
 ],
 "metadata": {
  "kernelspec": {
   "display_name": "Python 2",
   "language": "python",
   "name": "python2"
  },
  "language_info": {
   "codemirror_mode": {
    "name": "ipython",
    "version": 2
   },
   "file_extension": ".py",
   "mimetype": "text/x-python",
   "name": "python",
   "nbconvert_exporter": "python",
   "pygments_lexer": "ipython2",
   "version": "2.7.12"
  }
 },
 "nbformat": 4,
 "nbformat_minor": 2
}
