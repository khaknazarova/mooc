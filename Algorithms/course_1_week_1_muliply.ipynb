{
 "cells": [
  {
   "cell_type": "markdown",
   "metadata": {},
   "source": [
    " ## Programming Assignment #1"
   ]
  },
  {
   "cell_type": "markdown",
   "metadata": {},
   "source": [
    "### Recursive integer multiplication's implementation"
   ]
  },
  {
   "cell_type": "code",
   "execution_count": 1,
   "metadata": {
    "collapsed": true
   },
   "outputs": [],
   "source": [
    "def product(x,y):\n",
    "    n = len(str(y))\n",
    "    if n==1:\n",
    "        return x*y\n",
    "    a, c = long(x/10**(n/2)), long(y/10**(n/2)) \n",
    "    b, d = long(x%10**(n/2)), long(y%10**(n/2))\n",
    "    ac = product(a,c)\n",
    "    ad = product(a,d)\n",
    "    bc = product(b,c)\n",
    "    bd = product(b,d)\n",
    "    return long(10**n*ac + 10**(n/2)*(ad+bc) + bd)"
   ]
  },
  {
   "cell_type": "code",
   "execution_count": 2,
   "metadata": {
    "collapsed": false,
    "scrolled": true
   },
   "outputs": [],
   "source": [
    "x = 3141592653589793238462643383279502884197169399375105820974944592\n",
    "y = 2718281828459045235360287471352662497757247093699959574966967627\n",
    "result = product(x, y)"
   ]
  },
  {
   "cell_type": "code",
   "execution_count": 3,
   "metadata": {
    "collapsed": false
   },
   "outputs": [
    {
     "name": "stdout",
     "output_type": "stream",
     "text": [
      "error: 0\n",
      "answer: 8539734222673567065463550869546574495034888535765114961879601127067743044893204848617875072216249073013374895871952806582723184\n"
     ]
    }
   ],
   "source": [
    "print 'error:', result - x*y\n",
    "print 'answer:', result"
   ]
  }
 ],
 "metadata": {
  "kernelspec": {
   "display_name": "Python 2",
   "language": "python",
   "name": "python2"
  },
  "language_info": {
   "codemirror_mode": {
    "name": "ipython",
    "version": 2
   },
   "file_extension": ".py",
   "mimetype": "text/x-python",
   "name": "python",
   "nbconvert_exporter": "python",
   "pygments_lexer": "ipython2",
   "version": "2.7.12"
  }
 },
 "nbformat": 4,
 "nbformat_minor": 2
}
