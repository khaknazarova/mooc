{
 "cells": [
  {
   "cell_type": "markdown",
   "metadata": {},
   "source": [
    "# Softmax exercise\n",
    "\n",
    "*Complete and hand in this completed worksheet (including its outputs and any supporting code outside of the worksheet) with your assignment submission. For more details see the [assignments page](http://vision.stanford.edu/teaching/cs231n/assignments.html) on the course website.*\n",
    "\n",
    "This exercise is analogous to the SVM exercise. You will:\n",
    "\n",
    "- implement a fully-vectorized **loss function** for the Softmax classifier\n",
    "- implement the fully-vectorized expression for its **analytic gradient**\n",
    "- **check your implementation** with numerical gradient\n",
    "- use a validation set to **tune the learning rate and regularization** strength\n",
    "- **optimize** the loss function with **SGD**\n",
    "- **visualize** the final learned weights\n"
   ]
  },
  {
   "cell_type": "code",
   "execution_count": 1,
   "metadata": {
    "collapsed": false
   },
   "outputs": [],
   "source": [
    "import random\n",
    "import numpy as np\n",
    "from cs231n.data_utils import load_CIFAR10\n",
    "import matplotlib.pyplot as plt\n",
    "%matplotlib inline\n",
    "plt.rcParams['figure.figsize'] = (10.0, 8.0) # set default size of plots\n",
    "plt.rcParams['image.interpolation'] = 'nearest'\n",
    "plt.rcParams['image.cmap'] = 'gray'\n",
    "\n",
    "# for auto-reloading extenrnal modules\n",
    "# see http://stackoverflow.com/questions/1907993/autoreload-of-modules-in-ipython\n",
    "%load_ext autoreload\n",
    "%autoreload 2"
   ]
  },
  {
   "cell_type": "code",
   "execution_count": 2,
   "metadata": {
    "collapsed": false
   },
   "outputs": [
    {
     "name": "stdout",
     "output_type": "stream",
     "text": [
      "Train data shape:  (49000, 3073)\n",
      "Train labels shape:  (49000,)\n",
      "Validation data shape:  (1000, 3073)\n",
      "Validation labels shape:  (1000,)\n",
      "Test data shape:  (1000, 3073)\n",
      "Test labels shape:  (1000,)\n",
      "dev data shape:  (500, 3073)\n",
      "dev labels shape:  (500,)\n"
     ]
    }
   ],
   "source": [
    "def get_CIFAR10_data(num_training=49000, num_validation=1000, num_test=1000, num_dev=500):\n",
    "  \"\"\"\n",
    "  Load the CIFAR-10 dataset from disk and perform preprocessing to prepare\n",
    "  it for the linear classifier. These are the same steps as we used for the\n",
    "  SVM, but condensed to a single function.  \n",
    "  \"\"\"\n",
    "  # Load the raw CIFAR-10 data\n",
    "  cifar10_dir = 'cs231n/datasets/cifar-10-batches-py'\n",
    "  X_train, y_train, X_test, y_test = load_CIFAR10(cifar10_dir)\n",
    "  \n",
    "  # subsample the data\n",
    "  mask = range(num_training, num_training + num_validation)\n",
    "  X_val = X_train[mask]\n",
    "  y_val = y_train[mask]\n",
    "  mask = range(num_training)\n",
    "  X_train = X_train[mask]\n",
    "  y_train = y_train[mask]\n",
    "  mask = range(num_test)\n",
    "  X_test = X_test[mask]\n",
    "  y_test = y_test[mask]\n",
    "  mask = np.random.choice(num_training, num_dev, replace=False)\n",
    "  X_dev = X_train[mask]\n",
    "  y_dev = y_train[mask]\n",
    "  \n",
    "  # Preprocessing: reshape the image data into rows\n",
    "  X_train = np.reshape(X_train, (X_train.shape[0], -1))\n",
    "  X_val = np.reshape(X_val, (X_val.shape[0], -1))\n",
    "  X_test = np.reshape(X_test, (X_test.shape[0], -1))\n",
    "  X_dev = np.reshape(X_dev, (X_dev.shape[0], -1))\n",
    "  \n",
    "  # Normalize the data: subtract the mean image\n",
    "  mean_image = np.mean(X_train, axis = 0)\n",
    "  X_train -= mean_image\n",
    "  X_val -= mean_image\n",
    "  X_test -= mean_image\n",
    "  X_dev -= mean_image\n",
    "  \n",
    "  # add bias dimension and transform into columns\n",
    "  X_train = np.hstack([X_train, np.ones((X_train.shape[0], 1))])\n",
    "  X_val = np.hstack([X_val, np.ones((X_val.shape[0], 1))])\n",
    "  X_test = np.hstack([X_test, np.ones((X_test.shape[0], 1))])\n",
    "  X_dev = np.hstack([X_dev, np.ones((X_dev.shape[0], 1))])\n",
    "  \n",
    "  return X_train, y_train, X_val, y_val, X_test, y_test, X_dev, y_dev\n",
    "\n",
    "\n",
    "# Invoke the above function to get our data.\n",
    "X_train, y_train, X_val, y_val, X_test, y_test, X_dev, y_dev = get_CIFAR10_data()\n",
    "print 'Train data shape: ', X_train.shape\n",
    "print 'Train labels shape: ', y_train.shape\n",
    "print 'Validation data shape: ', X_val.shape\n",
    "print 'Validation labels shape: ', y_val.shape\n",
    "print 'Test data shape: ', X_test.shape\n",
    "print 'Test labels shape: ', y_test.shape\n",
    "print 'dev data shape: ', X_dev.shape\n",
    "print 'dev labels shape: ', y_dev.shape"
   ]
  },
  {
   "cell_type": "markdown",
   "metadata": {},
   "source": [
    "## Softmax Classifier\n",
    "\n",
    "Your code for this section will all be written inside **cs231n/classifiers/softmax.py**. \n"
   ]
  },
  {
   "cell_type": "code",
   "execution_count": 9,
   "metadata": {
    "collapsed": false
   },
   "outputs": [
    {
     "name": "stdout",
     "output_type": "stream",
     "text": [
      "loss: 2.317790\n",
      "sanity check: 2.302585\n"
     ]
    }
   ],
   "source": [
    "# First implement the naive softmax loss function with nested loops.\n",
    "# Open the file cs231n/classifiers/softmax.py and implement the\n",
    "# softmax_loss_naive function.\n",
    "\n",
    "from cs231n.classifiers.softmax import softmax_loss_naive\n",
    "import time\n",
    "\n",
    "# Generate a random softmax weight matrix and use it to compute the loss.\n",
    "W = np.random.randn(3073, 10) * 0.0001\n",
    "loss, grad = softmax_loss_naive(W, X_dev, y_dev, 0.0)\n",
    "\n",
    "# As a rough sanity check, our loss should be something close to -log(0.1).\n",
    "print 'loss: %f' % loss\n",
    "print 'sanity check: %f' % (-np.log(0.1))"
   ]
  },
  {
   "cell_type": "markdown",
   "metadata": {},
   "source": [
    "## Inline Question 1:\n",
    "Why do we expect our loss to be close to -log(0.1)? Explain briefly.**\n",
    "\n",
    "**Your answer:** *Fill this in*\n"
   ]
  },
  {
   "cell_type": "code",
   "execution_count": 27,
   "metadata": {
    "collapsed": false
   },
   "outputs": [
    {
     "name": "stdout",
     "output_type": "stream",
     "text": [
      "numerical: -1.350339 analytic: -1.350339, relative error: 5.831718e-09\n",
      "numerical: 2.291145 analytic: 2.291144, relative error: 9.688563e-09\n",
      "numerical: 0.673322 analytic: 0.673322, relative error: 4.662457e-08\n",
      "numerical: -0.878983 analytic: -0.878983, relative error: 2.168129e-08\n",
      "numerical: 1.262336 analytic: 1.262336, relative error: 6.489077e-09\n",
      "numerical: -2.998819 analytic: -2.998819, relative error: 1.495474e-08\n",
      "numerical: 4.194261 analytic: 4.194261, relative error: 2.052584e-08\n",
      "numerical: -2.170374 analytic: -2.170374, relative error: 3.026609e-08\n",
      "numerical: 1.633752 analytic: 1.633751, relative error: 1.965334e-08\n",
      "numerical: 1.063714 analytic: 1.063714, relative error: 2.501928e-09\n",
      "numerical: -0.069702 analytic: -0.069702, relative error: 1.409407e-07\n",
      "numerical: -0.205145 analytic: -0.205145, relative error: 1.420821e-07\n",
      "numerical: 0.079097 analytic: 0.079097, relative error: 1.229972e-07\n",
      "numerical: 3.652215 analytic: 3.652215, relative error: 1.997694e-08\n",
      "numerical: -0.598976 analytic: -0.598976, relative error: 1.129042e-08\n",
      "numerical: -1.123424 analytic: -1.123424, relative error: 3.927982e-08\n",
      "numerical: -0.143441 analytic: -0.143441, relative error: 2.360524e-07\n",
      "numerical: -1.178680 analytic: -1.178681, relative error: 6.588211e-08\n",
      "numerical: 1.583763 analytic: 1.583763, relative error: 1.959995e-08\n",
      "numerical: 2.628909 analytic: 2.628909, relative error: 4.234746e-09\n"
     ]
    }
   ],
   "source": [
    "# Complete the implementation of softmax_loss_naive and implement a (naive)\n",
    "# version of the gradient that uses nested loops.\n",
    "loss, grad = softmax_loss_naive(W, X_dev, y_dev, 0.0)\n",
    "\n",
    "# As we did for the SVM, use numeric gradient checking as a debugging tool.\n",
    "# The numeric gradient should be close to the analytic gradient.\n",
    "from cs231n.gradient_check import grad_check_sparse\n",
    "f = lambda w: softmax_loss_naive(w, X_dev, y_dev, 0.0)[0]\n",
    "grad_numerical = grad_check_sparse(f, W, grad, 10)\n",
    "\n",
    "# similar to SVM case, do another gradient check with regularization\n",
    "loss, grad = softmax_loss_naive(W, X_dev, y_dev, 1e2)\n",
    "f = lambda w: softmax_loss_naive(w, X_dev, y_dev, 1e2)[0]\n",
    "grad_numerical = grad_check_sparse(f, W, grad, 10)"
   ]
  },
  {
   "cell_type": "code",
   "execution_count": 55,
   "metadata": {
    "collapsed": false
   },
   "outputs": [
    {
     "name": "stdout",
     "output_type": "stream",
     "text": [
      "naive loss: 2.317790e+00 computed in 0.056742s\n",
      "(500, 10)\n",
      "vectorized loss: 2.317790e+00 computed in 0.014723s\n",
      "Loss difference: 0.000000\n",
      "Gradient difference: 0.000000\n"
     ]
    }
   ],
   "source": [
    "# Now that we have a naive implementation of the softmax loss function and its gradient,\n",
    "# implement a vectorized version in softmax_loss_vectorized.\n",
    "# The two versions should compute the same results, but the vectorized version should be\n",
    "# much faster.\n",
    "tic = time.time()\n",
    "loss_naive, grad_naive = softmax_loss_naive(W, X_dev, y_dev, 0.00001)\n",
    "toc = time.time()\n",
    "print 'naive loss: %e computed in %fs' % (loss_naive, toc - tic)\n",
    "\n",
    "from cs231n.classifiers.softmax import softmax_loss_vectorized\n",
    "tic = time.time()\n",
    "loss_vectorized, grad_vectorized = softmax_loss_vectorized(W, X_dev, y_dev, 0.00001)\n",
    "toc = time.time()\n",
    "print 'vectorized loss: %e computed in %fs' % (loss_vectorized, toc - tic)\n",
    "\n",
    "# As we did for the SVM, we use the Frobenius norm to compare the two versions\n",
    "# of the gradient.\n",
    "grad_difference = np.linalg.norm(grad_naive - grad_vectorized, ord='fro')\n",
    "print 'Loss difference: %f' % np.abs(loss_naive - loss_vectorized)\n",
    "print 'Gradient difference: %f' % grad_difference"
   ]
  },
  {
   "cell_type": "code",
   "execution_count": 58,
   "metadata": {
    "collapsed": false
   },
   "outputs": [
    {
     "name": "stdout",
     "output_type": "stream",
     "text": [
      "learning rate is 1e-07 ; regularization is 50000.0\n",
      "iteration 0 / 1000: loss 772.952617\n",
      "iteration 100 / 1000: loss 283.812852\n",
      "iteration 200 / 1000: loss 105.308245\n",
      "iteration 300 / 1000: loss 39.864092\n",
      "iteration 400 / 1000: loss 15.873533\n",
      "iteration 500 / 1000: loss 7.134629\n",
      "iteration 600 / 1000: loss 3.923719\n",
      "iteration 700 / 1000: loss 2.760887\n",
      "iteration 800 / 1000: loss 2.330656\n",
      "iteration 900 / 1000: loss 2.196028\n",
      "learning rate is 1e-07 ; regularization is 100000.0\n",
      "iteration 0 / 1000: loss 1538.588354\n",
      "iteration 100 / 1000: loss 207.104990\n",
      "iteration 200 / 1000: loss 29.524041\n",
      "iteration 300 / 1000: loss 5.842321\n",
      "iteration 400 / 1000: loss 2.591857\n",
      "iteration 500 / 1000: loss 2.182062\n",
      "iteration 600 / 1000: loss 2.165479\n",
      "iteration 700 / 1000: loss 2.182510\n",
      "iteration 800 / 1000: loss 2.148529\n",
      "iteration 900 / 1000: loss 2.169555\n",
      "learning rate is 5e-07 ; regularization is 50000.0\n",
      "iteration 0 / 1000: loss 778.824719\n",
      "iteration 100 / 1000: loss 6.922856\n",
      "iteration 200 / 1000: loss 2.107674\n",
      "iteration 300 / 1000: loss 2.073859\n",
      "iteration 400 / 1000: loss 2.137145\n",
      "iteration 500 / 1000: loss 2.019292\n",
      "iteration 600 / 1000: loss 2.156301\n",
      "iteration 700 / 1000: loss 2.065936\n",
      "iteration 800 / 1000: loss 2.054721\n",
      "iteration 900 / 1000: loss 2.046523\n",
      "learning rate is 5e-07 ; regularization is 100000.0\n",
      "iteration 0 / 1000: loss 1520.041140\n",
      "iteration 100 / 1000: loss 2.227748\n",
      "iteration 200 / 1000: loss 2.164484\n",
      "iteration 300 / 1000: loss 2.126552\n",
      "iteration 400 / 1000: loss 2.141804\n",
      "iteration 500 / 1000: loss 2.155933\n",
      "iteration 600 / 1000: loss 2.129979\n",
      "iteration 700 / 1000: loss 2.102550\n",
      "iteration 800 / 1000: loss 2.106812\n",
      "iteration 900 / 1000: loss 2.183097\n",
      "learning rate is 1e-06 ; regularization is 50000.0\n",
      "iteration 0 / 1000: loss 775.321665\n",
      "iteration 100 / 1000: loss 2.117754\n",
      "iteration 200 / 1000: loss 2.102251\n",
      "iteration 300 / 1000: loss 2.095006\n",
      "iteration 400 / 1000: loss 2.084655\n",
      "iteration 500 / 1000: loss 2.182040\n",
      "iteration 600 / 1000: loss 2.048848\n",
      "iteration 700 / 1000: loss 2.088262\n",
      "iteration 800 / 1000: loss 2.092976\n",
      "iteration 900 / 1000: loss 2.091333\n",
      "learning rate is 1e-06 ; regularization is 100000.0\n",
      "iteration 0 / 1000: loss 1543.521056\n",
      "iteration 100 / 1000: loss 2.114967\n",
      "iteration 200 / 1000: loss 2.167669\n",
      "iteration 300 / 1000: loss 2.097319\n",
      "iteration 400 / 1000: loss 2.153866\n",
      "iteration 500 / 1000: loss 2.118061\n",
      "iteration 600 / 1000: loss 2.183786\n",
      "iteration 700 / 1000: loss 2.190199\n",
      "iteration 800 / 1000: loss 2.172432\n",
      "iteration 900 / 1000: loss 2.161535\n",
      "learning rate is 5e-06 ; regularization is 50000.0\n",
      "iteration 0 / 1000: loss 794.273483\n",
      "iteration 100 / 1000: loss 2.527785\n",
      "iteration 200 / 1000: loss 2.548385\n",
      "iteration 300 / 1000: loss 2.579557\n",
      "iteration 400 / 1000: loss 2.399374\n",
      "iteration 500 / 1000: loss 2.367722\n",
      "iteration 600 / 1000: loss 2.390314\n",
      "iteration 700 / 1000: loss 2.361592\n",
      "iteration 800 / 1000: loss 2.597566\n",
      "iteration 900 / 1000: loss 2.716121\n",
      "learning rate is 5e-06 ; regularization is 100000.0\n",
      "iteration 0 / 1000: loss 1537.667850\n",
      "iteration 100 / 1000: loss 4.256000\n",
      "iteration 200 / 1000: loss 3.622625\n",
      "iteration 300 / 1000: loss 3.311418\n",
      "iteration 400 / 1000: loss 3.292362\n",
      "iteration 500 / 1000: loss 3.509109\n",
      "iteration 600 / 1000: loss 3.221387\n",
      "iteration 700 / 1000: loss 4.037235\n",
      "iteration 800 / 1000: loss 4.433083\n",
      "iteration 900 / 1000: loss 3.061057\n",
      "learning rate is 5e-05 ; regularization is 50000.0\n",
      "iteration 0 / 1000: loss 772.668081\n",
      "iteration 100 / 1000: loss nan\n",
      "iteration 200 / 1000: loss nan\n",
      "iteration 300 / 1000: loss nan\n",
      "iteration 400 / 1000: loss nan\n",
      "iteration 500 / 1000: loss nan\n",
      "iteration 600 / 1000: loss nan\n",
      "iteration 700 / 1000: loss nan\n",
      "iteration 800 / 1000: loss nan\n",
      "iteration 900 / 1000: loss nan\n",
      "learning rate is 5e-05 ; regularization is 100000.0\n",
      "iteration 0 / 1000: loss 1543.803161\n",
      "iteration 100 / 1000: loss nan\n",
      "iteration 200 / 1000: loss nan\n",
      "iteration 300 / 1000: loss nan\n",
      "iteration 400 / 1000: loss nan\n",
      "iteration 500 / 1000: loss nan\n",
      "iteration 600 / 1000: loss nan\n",
      "iteration 700 / 1000: loss nan\n",
      "iteration 800 / 1000: loss nan\n",
      "iteration 900 / 1000: loss nan\n",
      "lr 1.000000e-07 reg 5.000000e+04 train accuracy: 0.326857 val accuracy: 0.337000\n",
      "lr 1.000000e-07 reg 1.000000e+05 train accuracy: 0.305653 val accuracy: 0.320000\n",
      "lr 5.000000e-07 reg 5.000000e+04 train accuracy: 0.339061 val accuracy: 0.353000\n",
      "lr 5.000000e-07 reg 1.000000e+05 train accuracy: 0.308776 val accuracy: 0.325000\n",
      "lr 1.000000e-06 reg 5.000000e+04 train accuracy: 0.317020 val accuracy: 0.346000\n",
      "lr 1.000000e-06 reg 1.000000e+05 train accuracy: 0.298714 val accuracy: 0.300000\n",
      "lr 5.000000e-06 reg 5.000000e+04 train accuracy: 0.238184 val accuracy: 0.232000\n",
      "lr 5.000000e-06 reg 1.000000e+05 train accuracy: 0.189714 val accuracy: 0.200000\n",
      "lr 5.000000e-05 reg 5.000000e+04 train accuracy: 0.100265 val accuracy: 0.087000\n",
      "lr 5.000000e-05 reg 1.000000e+05 train accuracy: 0.100265 val accuracy: 0.087000\n",
      "best validation accuracy achieved during cross-validation: 0.353000\n"
     ]
    }
   ],
   "source": [
    "# Use the validation set to tune hyperparameters (regularization strength and\n",
    "# learning rate). You should experiment with different ranges for the learning\n",
    "# rates and regularization strengths; if you are careful you should be able to\n",
    "# get a classification accuracy of over 0.35 on the validation set.\n",
    "from cs231n.classifiers import Softmax\n",
    "\n",
    "results = {}\n",
    "best_val = -1\n",
    "best_softmax = None\n",
    "learning_rates = [1e-7, 5e-7, 1e-6, 5e-6,  5e-5]\n",
    "regularization_strengths = [5e4, 1e5]\n",
    "\n",
    "################################################################################\n",
    "# TODO:                                                                        #\n",
    "# Use the validation set to set the learning rate and regularization strength. #\n",
    "# This should be identical to the validation that you did for the SVM; save    #\n",
    "# the best trained softmax classifer in best_softmax.                          #\n",
    "################################################################################\n",
    "for lr in learning_rates:\n",
    "    for rs in regularization_strengths:\n",
    "        print 'learning rate is', lr, '; regularization is', rs\n",
    "        clf = Softmax();\n",
    "        clf.train(X_train, y_train, learning_rate=lr, reg=rs,\n",
    "                      num_iters=1000, verbose=True);\n",
    "        y_train_pred = clf.predict(X_train)\n",
    "        training_accuracy = np.mean(y_train == y_train_pred)\n",
    "        \n",
    "        y_val_pred = clf.predict(X_val)\n",
    "        validation_accuracy = np.mean(y_val == y_val_pred)\n",
    "        results[(lr, rs)] = (training_accuracy, validation_accuracy)\n",
    "        \n",
    "        if validation_accuracy > best_val:\n",
    "            best_val = validation_accuracy\n",
    "            best_softmax = clf\n",
    "################################################################################\n",
    "#                              END OF YOUR CODE                                #\n",
    "################################################################################\n",
    "    \n",
    "# Print out results.\n",
    "for lr, reg in sorted(results):\n",
    "    train_accuracy, val_accuracy = results[(lr, reg)]\n",
    "    print 'lr %e reg %e train accuracy: %f val accuracy: %f' % (\n",
    "                lr, reg, train_accuracy, val_accuracy)\n",
    "    \n",
    "print 'best validation accuracy achieved during cross-validation: %f' % best_val"
   ]
  },
  {
   "cell_type": "code",
   "execution_count": 59,
   "metadata": {
    "collapsed": false
   },
   "outputs": [
    {
     "name": "stdout",
     "output_type": "stream",
     "text": [
      "softmax on raw pixels final test set accuracy: 0.347000\n"
     ]
    }
   ],
   "source": [
    "# evaluate on test set\n",
    "# Evaluate the best softmax on test set\n",
    "y_test_pred = best_softmax.predict(X_test)\n",
    "test_accuracy = np.mean(y_test == y_test_pred)\n",
    "print 'softmax on raw pixels final test set accuracy: %f' % (test_accuracy, )"
   ]
  },
  {
   "cell_type": "code",
   "execution_count": 60,
   "metadata": {
    "collapsed": false
   },
   "outputs": [
    {
     "data": {
      "image/png": "[encoded data removed]",
      "text/plain": [
       "<matplotlib.figure.Figure at 0x7ff2282ff550>"
      ]
     },
     "metadata": {},
     "output_type": "display_data"
    }
   ],
   "source": [
    "# Visualize the learned weights for each class\n",
    "w = best_softmax.W[:-1,:] # strip out the bias\n",
    "w = w.reshape(32, 32, 3, 10)\n",
    "\n",
    "w_min, w_max = np.min(w), np.max(w)\n",
    "\n",
    "classes = ['plane', 'car', 'bird', 'cat', 'deer', 'dog', 'frog', 'horse', 'ship', 'truck']\n",
    "for i in xrange(10):\n",
    "  plt.subplot(2, 5, i + 1)\n",
    "  \n",
    "  # Rescale the weights to be between 0 and 255\n",
    "  wimg = 255.0 * (w[:, :, :, i].squeeze() - w_min) / (w_max - w_min)\n",
    "  plt.imshow(wimg.astype('uint8'))\n",
    "  plt.axis('off')\n",
    "  plt.title(classes[i])"
   ]
  },
  {
   "cell_type": "code",
   "execution_count": null,
   "metadata": {
    "collapsed": true
   },
   "outputs": [],
   "source": []
  }
 ],
 "metadata": {
  "kernelspec": {
   "display_name": "Python 2",
   "language": "python",
   "name": "python2"
  },
  "language_info": {
   "codemirror_mode": {
    "name": "ipython",
    "version": 2
   },
   "file_extension": ".py",
   "mimetype": "text/x-python",
   "name": "python",
   "nbconvert_exporter": "python",
   "pygments_lexer": "ipython2",
   "version": "2.7.12"
  }
 },
 "nbformat": 4,
 "nbformat_minor": 0
}
